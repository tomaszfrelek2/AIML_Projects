{
  "nbformat": 4,
  "nbformat_minor": 0,
  "metadata": {
    "colab": {
      "provenance": []
    },
    "kernelspec": {
      "name": "python3",
      "display_name": "Python 3"
    },
    "language_info": {
      "name": "python"
    }
  },
  "cells": [
    {
      "cell_type": "code",
      "execution_count": null,
      "metadata": {
        "id": "EsqVYXjRwZaT"
      },
      "outputs": [],
      "source": [
        "import numpy as np\n",
        "import pandas as pd"
      ]
    },
    {
      "cell_type": "code",
      "source": [
        "xTrain = pd.read_csv(\"/content/digits_training_data.csv\", header = None)\n",
        "yTrain = pd.read_csv(\"/content/digits_training_labels.csv\", header = None)\n",
        "xTest = pd.read_csv(\"/content/digits_test_data.csv\", header = None)\n",
        "yTest = pd.read_csv(\"/content/digits_test_labels.csv\", header = None)"
      ],
      "metadata": {
        "id": "5tK-FuzEw5eX"
      },
      "execution_count": null,
      "outputs": []
    },
    {
      "cell_type": "code",
      "source": [
        "print(xTrain.shape[0])"
      ],
      "metadata": {
        "colab": {
          "base_uri": "https://localhost:8080/"
        },
        "id": "CyVDtgZvyw0Q",
        "outputId": "7fcb7d2c-3587-40c8-efe6-c92862b6a93e"
      },
      "execution_count": null,
      "outputs": [
        {
          "output_type": "stream",
          "name": "stdout",
          "text": [
            "1000\n"
          ]
        }
      ]
    },
    {
      "cell_type": "code",
      "source": [
        "lambda1 = 0\n",
        "mu1 = 0\n",
        "mu2 = 0\n",
        "sigma = 0\n",
        "count1 = 0\n",
        "for i in range(len(yTrain)):\n",
        "  if(yTrain[0][i] == 1):\n",
        "    lambda1 += 1\n",
        "    count1 += 1\n",
        "lambda1 /= len(yTrain)\n",
        "count2 = 1000 - count1\n",
        "#print(lambda1)\n",
        "\n",
        "for i in range(len(yTrain)):\n",
        "  if(yTrain[0][i] == 1):\n",
        "    mu1 += xTrain.transpose()[i]\n",
        "  else:\n",
        "    mu2 += xTrain.transpose()[i]\n",
        "\n",
        "mu1 /= count1\n",
        "mu2 /= count2\n",
        "\n",
        "#print(mu1)\n",
        "#print(mu2)\n",
        "\n",
        "for i in range(len(yTrain)):\n",
        "  if(yTrain[0][i] == 1):\n",
        "    sigma += np.outer((xTrain.transpose()[i] - mu1),(xTrain.transpose()[i] - mu1))\n",
        "  else:\n",
        "    sigma += np.outer((xTrain.transpose()[i] - mu2),(xTrain.transpose()[i] - mu2))\n",
        "\n",
        "sigma /= len(yTrain)\n",
        "print(sigma.shape)\n",
        "for i in range(len(sigma)):\n",
        "  sigma[i][i] += .000000001\n",
        "print(sigma)\n",
        "sigmaInv = np.linalg.inv(sigma)\n"
      ],
      "metadata": {
        "colab": {
          "base_uri": "https://localhost:8080/"
        },
        "id": "jQ1EDG9AxDjn",
        "outputId": "aad0d941-81e0-49be-87cb-f55d041a7323"
      },
      "execution_count": null,
      "outputs": [
        {
          "output_type": "stream",
          "name": "stdout",
          "text": [
            "(676, 676)\n",
            "[[1.e-09 0.e+00 0.e+00 ... 0.e+00 0.e+00 0.e+00]\n",
            " [0.e+00 1.e-09 0.e+00 ... 0.e+00 0.e+00 0.e+00]\n",
            " [0.e+00 0.e+00 1.e-09 ... 0.e+00 0.e+00 0.e+00]\n",
            " ...\n",
            " [0.e+00 0.e+00 0.e+00 ... 1.e-09 0.e+00 0.e+00]\n",
            " [0.e+00 0.e+00 0.e+00 ... 0.e+00 1.e-09 0.e+00]\n",
            " [0.e+00 0.e+00 0.e+00 ... 0.e+00 0.e+00 1.e-09]]\n"
          ]
        }
      ]
    },
    {
      "cell_type": "code",
      "source": [
        "\n",
        "predictions = list()\n",
        "for i in range(len(xTest)):\n",
        "  funcG = np.dot(np.dot(sigmaInv, (mu1 - mu2)), xTest.transpose()[i]) + (1/2 * np.dot(np.dot(mu2.transpose(),(sigmaInv)),mu2)) - (1/2 * np.dot(np.dot(mu1.transpose(),sigmaInv),mu1)) + (np.log(lambda1/(1-lambda1)))\n",
        "  prediction = 1/(1 + np.exp(- funcG))\n",
        "  if funcG  <= .5:\n",
        "    predictions.append(-1)\n",
        "  else:\n",
        "    predictions.append(1)\n",
        "\n",
        "correct = 0\n",
        "for i in range(len(yTest)):\n",
        "  if predictions[i] == yTest[0][i]:\n",
        "    correct += 1\n",
        "\n",
        "print(f\"Test Error: {correct/len(yTest)}%\")\n",
        "\n",
        "\n",
        "predictions = list()\n",
        "for i in range(len(xTrain)):\n",
        "  funcG = np.dot(np.dot(sigmaInv, (mu1 - mu2)), xTrain.transpose()[i]) + (1/2 * np.dot(np.dot(mu2.transpose(),(sigmaInv)),mu2)) - (1/2 * np.dot(np.dot(mu1.transpose(),sigmaInv),mu1)) + (np.log(lambda1/(1-lambda1)))\n",
        "  prediction = 1/(1 + np.exp(- funcG))\n",
        "  if funcG  <= .5:\n",
        "    predictions.append(-1)\n",
        "  else:\n",
        "    predictions.append(1)\n",
        "\n",
        "\n",
        "correct = 0\n",
        "for i in range(len(yTrain)):\n",
        "  if predictions[i] == yTrain[0][i]:\n",
        "    correct += 1\n",
        "\n",
        "print(f\"Train Error: {correct/len(yTrain)}%\")\n"
      ],
      "metadata": {
        "colab": {
          "base_uri": "https://localhost:8080/"
        },
        "id": "Td0Et8813kwV",
        "outputId": "5f42dd7f-f22f-4aa7-e770-3f46bda5e6b3"
      },
      "execution_count": null,
      "outputs": [
        {
          "output_type": "stream",
          "name": "stderr",
          "text": [
            "<ipython-input-49-909430e47ace>:6: RuntimeWarning: overflow encountered in exp\n",
            "  prediction = 1/(1 + np.exp(- funcG))\n"
          ]
        },
        {
          "output_type": "stream",
          "name": "stdout",
          "text": [
            "Test Error: 0.894%\n",
            "Train Error: 0.998%\n"
          ]
        }
      ]
    },
    {
      "cell_type": "code",
      "source": [],
      "metadata": {
        "id": "2IdBFdbwG0Sv"
      },
      "execution_count": null,
      "outputs": []
    },
    {
      "cell_type": "code",
      "source": [
        "predictions = list()\n",
        "\n",
        "for i in range(len(xTest)):\n",
        "  p1 = lambda1 * np.exp(-1/2 * np.dot(np.dot((xTest.transpose()[0] - mu1).transpose(), (np.linalg.inv(sigma))), (xTest.transpose()[0] - mu1)) )\n",
        "  p2 = (1- lambda1) * np.exp(-1/2 * np.dot(np.dot((xTest.transpose()[0] - mu2).transpose(), (np.linalg.inv(sigma))), (xTest.transpose()[0] - mu2)) )\n",
        "  if p1 >= p2:\n",
        "    predictions.append(1)\n",
        "  else:\n",
        "    predictions.append(-1)"
      ],
      "metadata": {
        "id": "NL8HO8tz7wL5"
      },
      "execution_count": null,
      "outputs": []
    },
    {
      "cell_type": "code",
      "source": [],
      "metadata": {
        "id": "cVCDu3jk-rzJ"
      },
      "execution_count": null,
      "outputs": []
    },
    {
      "cell_type": "code",
      "source": [
        "count = 0\n",
        "for i in range(len(xTest)):\n",
        "  if yTest[0][i] != predictions[i]:\n",
        "    print(f\"Missclassified the {i+1}th digit\")\n",
        "    if yTest[0][i] == 1:\n",
        "      print(\"Digit was 9, but was classified as 4\")\n",
        "    else:\n",
        "      print(\"Digit was 4, but was classified as 9\")\n",
        "    count += 1\n",
        "  if count == 5:\n",
        "    break\n"
      ],
      "metadata": {
        "colab": {
          "base_uri": "https://localhost:8080/"
        },
        "id": "AmDRqXaoG1Cp",
        "outputId": "eab39814-860e-4fe5-88f9-736f46039445"
      },
      "execution_count": null,
      "outputs": [
        {
          "output_type": "stream",
          "name": "stdout",
          "text": [
            "Missclassified the 1th digit\n",
            "Digit was 9, but was classified as 4\n",
            "Missclassified the 2th digit\n",
            "Digit was 4, but was classified as 9\n",
            "Missclassified the 4th digit\n",
            "Digit was 4, but was classified as 9\n",
            "Missclassified the 6th digit\n",
            "Digit was 4, but was classified as 9\n",
            "Missclassified the 9th digit\n",
            "Digit was 4, but was classified as 9\n"
          ]
        }
      ]
    }
  ]
}