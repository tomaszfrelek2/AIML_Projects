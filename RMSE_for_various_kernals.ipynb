{
  "nbformat": 4,
  "nbformat_minor": 0,
  "metadata": {
    "colab": {
      "provenance": []
    },
    "kernelspec": {
      "name": "python3",
      "display_name": "Python 3"
    },
    "language_info": {
      "name": "python"
    }
  },
  "cells": [
    {
      "cell_type": "code",
      "source": [
        "import numpy as np\n",
        "import pandas as pd\n",
        "from sklearn.preprocessing import StandardScaler"
      ],
      "metadata": {
        "id": "KxAKSjB7v7Gn"
      },
      "execution_count": null,
      "outputs": []
    },
    {
      "cell_type": "code",
      "source": [
        "data = pd.read_csv(\"/content/steel_composition_train.csv\")\n",
        "x_train = data.loc[:, 'Carbon':'Silicon']\n",
        "y_train = data.loc[:,'Strength']\n",
        "print(x_train.iloc[0,0])\n"
      ],
      "metadata": {
        "colab": {
          "base_uri": "https://localhost:8080/"
        },
        "id": "g24sdCdqwVXp",
        "outputId": "2b5b48e2-6534-4718-e539-fef45587fedb"
      },
      "execution_count": null,
      "outputs": [
        {
          "output_type": "stream",
          "name": "stdout",
          "text": [
            "540.0\n"
          ]
        }
      ]
    },
    {
      "cell_type": "code",
      "source": [
        "#Normalize data\n",
        "scaler = StandardScaler()\n",
        "x_train_normalized = scaler.fit_transform(x_train)"
      ],
      "metadata": {
        "id": "J193lUSLxg6r"
      },
      "execution_count": null,
      "outputs": []
    },
    {
      "cell_type": "code",
      "execution_count": null,
      "metadata": {
        "colab": {
          "base_uri": "https://localhost:8080/"
        },
        "id": "we21SvbUnTXW",
        "outputId": "4d31e10d-dbc2-4fb6-c9ce-e53726c1c39a"
      },
      "outputs": [
        {
          "output_type": "stream",
          "name": "stdout",
          "text": [
            "RMSE for 1st kernal: 7.143039125410724\n",
            "RMSE for 2nd kernal: 4.421030297801573\n",
            "RMSE for 3rd kernal: 2.5477671259661125\n",
            "RMSE for gaussian kernal: 6.940639149357417\n"
          ]
        }
      ],
      "source": [
        "#Create kernel functions\n",
        "def polynomial_kernel2(u, v):\n",
        "    return (np.dot(u, v) + 1)**2\n",
        "\n",
        "\n",
        "def polynomial_kernel3(u, v):\n",
        "    return (np.dot(u, v) + 1)**3\n",
        "\n",
        "def polynomial_kernel4(u, v):\n",
        "    return (np.dot(u, v) + 1)**4\n",
        "\n",
        "def gaussian_kernel(u, v, sigma=1):\n",
        "    return np.exp(-np.linalg.norm(u - v)**2 / (2 * sigma ** 2))\n",
        "\n",
        "#Compute kernel matrix for 1st polynomial kernel\n",
        "kernal_matrix1 = np.zeros((len(x_train_normalized), len(x_train_normalized)))\n",
        "for i in range(len(x_train_normalized)):\n",
        "    for j in range(len(x_train_normalized)):\n",
        "        kernal_matrix1[i,j] = polynomial_kernel2(x_train_normalized[i], x_train_normalized[j])\n",
        "\n",
        "#Compute kernel matrix for 2nd polynomial kernel\n",
        "kernal_matrix2 = np.zeros((len(x_train_normalized), len(x_train_normalized)))\n",
        "for i in range(len(x_train_normalized)):\n",
        "    for j in range(len(x_train_normalized)):\n",
        "        kernal_matrix2[i,j] = polynomial_kernel3(x_train_normalized[i], x_train_normalized[j])\n",
        "\n",
        "#Compute kernel matrix for 3rd polynomial kernel\n",
        "kernal_matrix3 = np.zeros((len(x_train_normalized), len(x_train_normalized)))\n",
        "for i in range(len(x_train_normalized)):\n",
        "    for j in range(len(x_train_normalized)):\n",
        "        kernal_matrix3[i,j] = polynomial_kernel4(x_train_normalized[i], x_train_normalized[j])\n",
        "\n",
        "#Compute kernel matrix for gaussian kernel\n",
        "gaussian_matrix = np.zeros((len(x_train_normalized), len(x_train_normalized)))\n",
        "for i in range(len(x_train_normalized)):\n",
        "    for j in range(len(x_train_normalized)):\n",
        "        gaussian_matrix[i,j] = gaussian_kernel(x_train_normalized[i], x_train_normalized[j])\n",
        "lam = 1\n",
        "#compute RMSE for kernel 1\n",
        "z = np.dot(np.linalg.inv(kernal_matrix1 + lam * np.eye(len(x_train_normalized))), y_train)\n",
        "y_train_pred = np.dot(kernal_matrix1, z)\n",
        "rmse= np.sqrt(np.mean((y_train_pred - y_train) ** 2))\n",
        "print(\"RMSE for 1st kernal:\", rmse)\n",
        "\n",
        "#compute RMSE for kernel 2\n",
        "z = np.dot(np.linalg.inv(kernal_matrix2 + lam * np.eye(len(x_train_normalized))), y_train)\n",
        "y_train_pred = np.dot(kernal_matrix2, z)\n",
        "rmse= np.sqrt(np.mean((y_train_pred - y_train) ** 2))\n",
        "print(\"RMSE for 2nd kernal:\", rmse)\n",
        "\n",
        "#compute RMSE for kernel 3\n",
        "z = np.dot(np.linalg.inv(kernal_matrix3 + lam * np.eye(len(x_train_normalized))), y_train)\n",
        "y_train_pred = np.dot(kernal_matrix3, z)\n",
        "rmse= np.sqrt(np.mean((y_train_pred - y_train) ** 2))\n",
        "print(\"RMSE for 3rd kernal:\", rmse)\n",
        "\n",
        "#compute RMSE for gaussian kernel\n",
        "z = np.dot(np.linalg.inv(gaussian_matrix + lam * np.eye(len(x_train_normalized))), y_train)\n",
        "y_train_pred = np.dot(gaussian_matrix, z)\n",
        "rmse= np.sqrt(np.mean((y_train_pred - y_train) ** 2))\n",
        "print(\"RMSE for gaussian kernal:\", rmse)\n"
      ]
    },
    {
      "cell_type": "code",
      "source": [],
      "metadata": {
        "id": "8AbKB0qBv6O7"
      },
      "execution_count": null,
      "outputs": []
    }
  ]
}